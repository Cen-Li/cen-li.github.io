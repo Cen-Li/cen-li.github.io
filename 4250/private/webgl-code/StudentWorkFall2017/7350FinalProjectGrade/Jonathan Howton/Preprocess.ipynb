{
 "cells": [
  {
   "cell_type": "code",
   "execution_count": 1,
   "metadata": {
    "collapsed": true
   },
   "outputs": [],
   "source": [
    "import pandas as pd\n",
    "import numpy as np"
   ]
  },
  {
   "cell_type": "code",
   "execution_count": 2,
   "metadata": {
    "collapsed": false
   },
   "outputs": [
    {
     "data": {
      "text/plain": [
       "['As of Year',\n",
       " 'Respondent',\n",
       " 'Agency Code',\n",
       " 'Loan Type',\n",
       " 'Property Type',\n",
       " 'Loan Purpose',\n",
       " 'Occupancy',\n",
       " 'Loan Amount (000s)',\n",
       " 'Preapproval',\n",
       " 'Action Type',\n",
       " 'MSA/MD',\n",
       " 'State Code',\n",
       " 'County Code',\n",
       " 'Census Tract Number',\n",
       " 'Applicant Ethnicity',\n",
       " 'Co Applicant Ethnicity',\n",
       " 'Applicant Race 1',\n",
       " 'Applicant Race 2',\n",
       " 'Applicant Race 3',\n",
       " 'Applicant Race 4',\n",
       " 'Applicant Race 5',\n",
       " 'Co Applicant Race 1',\n",
       " 'Co Applicant Race 2',\n",
       " 'Co Applicant Race 3',\n",
       " 'Co Applicant Race 4',\n",
       " 'Co Applicant Race 5',\n",
       " 'Applicant Sex',\n",
       " 'Co Applicant Sex',\n",
       " 'Applicant Income (000s)',\n",
       " 'Purchaser Type',\n",
       " 'Denial Reason 1',\n",
       " 'Denial Reason 2',\n",
       " 'Denial Reason 3',\n",
       " 'Rate Spread',\n",
       " 'HOEPA Status',\n",
       " 'Lien Status',\n",
       " 'Edit Status',\n",
       " 'Sequence Number',\n",
       " 'Population',\n",
       " 'Minority Population %',\n",
       " 'HUD Median Family Income',\n",
       " 'Tract to MSA/MD Income %',\n",
       " 'Number of Owner-occupied units',\n",
       " 'Number of 1- to 4-Family units',\n",
       " 'Application Date Indicator']"
      ]
     },
     "execution_count": 2,
     "metadata": {},
     "output_type": "execute_result"
    }
   ],
   "source": [
    "with open(\"temp\") as f:\n",
    "    header_names = [x.strip() for x in f.readlines()]\n",
    "header_names"
   ]
  },
  {
   "cell_type": "code",
   "execution_count": 3,
   "metadata": {
    "collapsed": false
   },
   "outputs": [
    {
     "name": "stderr",
     "output_type": "stream",
     "text": [
      "C:\\Users\\jh6w\\Anaconda3\\lib\\site-packages\\IPython\\core\\interactiveshell.py:2717: DtypeWarning: Columns (1,10,12,13,30,38,39,40,41,42,43) have mixed types. Specify dtype option on import or set low_memory=False.\n",
      "  interactivity=interactivity, compiler=compiler, result=result)\n"
     ]
    }
   ],
   "source": [
    "dataset = pd.read_csv('2009HMDALAR - National.CSV', names=header_names)"
   ]
  },
  {
   "cell_type": "code",
   "execution_count": 4,
   "metadata": {
    "collapsed": false
   },
   "outputs": [
    {
     "data": {
      "text/html": [
       "<div>\n",
       "<table border=\"1\" class=\"dataframe\">\n",
       "  <thead>\n",
       "    <tr style=\"text-align: right;\">\n",
       "      <th></th>\n",
       "      <th>As of Year</th>\n",
       "      <th>Respondent</th>\n",
       "      <th>Agency Code</th>\n",
       "      <th>Loan Type</th>\n",
       "      <th>Property Type</th>\n",
       "      <th>Loan Purpose</th>\n",
       "      <th>Occupancy</th>\n",
       "      <th>Loan Amount (000s)</th>\n",
       "      <th>Preapproval</th>\n",
       "      <th>Action Type</th>\n",
       "      <th>...</th>\n",
       "      <th>Lien Status</th>\n",
       "      <th>Edit Status</th>\n",
       "      <th>Sequence Number</th>\n",
       "      <th>Population</th>\n",
       "      <th>Minority Population %</th>\n",
       "      <th>HUD Median Family Income</th>\n",
       "      <th>Tract to MSA/MD Income %</th>\n",
       "      <th>Number of Owner-occupied units</th>\n",
       "      <th>Number of 1- to 4-Family units</th>\n",
       "      <th>Application Date Indicator</th>\n",
       "    </tr>\n",
       "  </thead>\n",
       "  <tbody>\n",
       "    <tr>\n",
       "      <th>0</th>\n",
       "      <td>2009</td>\n",
       "      <td>0000000008</td>\n",
       "      <td>1</td>\n",
       "      <td>3</td>\n",
       "      <td>1</td>\n",
       "      <td>1</td>\n",
       "      <td>1</td>\n",
       "      <td>218</td>\n",
       "      <td>3</td>\n",
       "      <td>6</td>\n",
       "      <td>...</td>\n",
       "      <td>4</td>\n",
       "      <td></td>\n",
       "      <td>2860</td>\n",
       "      <td>00002697</td>\n",
       "      <td>080.68</td>\n",
       "      <td>00070100</td>\n",
       "      <td>093.31</td>\n",
       "      <td>00000307</td>\n",
       "      <td>00000668</td>\n",
       "      <td>2</td>\n",
       "    </tr>\n",
       "    <tr>\n",
       "      <th>1</th>\n",
       "      <td>2009</td>\n",
       "      <td>0000000008</td>\n",
       "      <td>1</td>\n",
       "      <td>1</td>\n",
       "      <td>1</td>\n",
       "      <td>3</td>\n",
       "      <td>1</td>\n",
       "      <td>202</td>\n",
       "      <td>3</td>\n",
       "      <td>6</td>\n",
       "      <td>...</td>\n",
       "      <td>4</td>\n",
       "      <td></td>\n",
       "      <td>2861</td>\n",
       "      <td>00004283</td>\n",
       "      <td>058.44</td>\n",
       "      <td>00070100</td>\n",
       "      <td>148.98</td>\n",
       "      <td>00000181</td>\n",
       "      <td>00000639</td>\n",
       "      <td>2</td>\n",
       "    </tr>\n",
       "    <tr>\n",
       "      <th>2</th>\n",
       "      <td>2009</td>\n",
       "      <td>0000000008</td>\n",
       "      <td>1</td>\n",
       "      <td>1</td>\n",
       "      <td>1</td>\n",
       "      <td>3</td>\n",
       "      <td>1</td>\n",
       "      <td>115</td>\n",
       "      <td>3</td>\n",
       "      <td>6</td>\n",
       "      <td>...</td>\n",
       "      <td>4</td>\n",
       "      <td></td>\n",
       "      <td>2862</td>\n",
       "      <td>00005471</td>\n",
       "      <td>073.84</td>\n",
       "      <td>00070100</td>\n",
       "      <td>115.07</td>\n",
       "      <td>00000752</td>\n",
       "      <td>00001744</td>\n",
       "      <td>2</td>\n",
       "    </tr>\n",
       "    <tr>\n",
       "      <th>3</th>\n",
       "      <td>2009</td>\n",
       "      <td>0000000008</td>\n",
       "      <td>1</td>\n",
       "      <td>1</td>\n",
       "      <td>1</td>\n",
       "      <td>3</td>\n",
       "      <td>1</td>\n",
       "      <td>186</td>\n",
       "      <td>3</td>\n",
       "      <td>6</td>\n",
       "      <td>...</td>\n",
       "      <td>4</td>\n",
       "      <td></td>\n",
       "      <td>2863</td>\n",
       "      <td>00005471</td>\n",
       "      <td>073.84</td>\n",
       "      <td>00070100</td>\n",
       "      <td>115.07</td>\n",
       "      <td>00000752</td>\n",
       "      <td>00001744</td>\n",
       "      <td>2</td>\n",
       "    </tr>\n",
       "    <tr>\n",
       "      <th>4</th>\n",
       "      <td>2009</td>\n",
       "      <td>0000000008</td>\n",
       "      <td>1</td>\n",
       "      <td>1</td>\n",
       "      <td>1</td>\n",
       "      <td>3</td>\n",
       "      <td>1</td>\n",
       "      <td>140</td>\n",
       "      <td>3</td>\n",
       "      <td>3</td>\n",
       "      <td>...</td>\n",
       "      <td>1</td>\n",
       "      <td></td>\n",
       "      <td>2864</td>\n",
       "      <td>00002512</td>\n",
       "      <td>065.84</td>\n",
       "      <td>00070100</td>\n",
       "      <td>112.12</td>\n",
       "      <td>00000449</td>\n",
       "      <td>00000846</td>\n",
       "      <td>0</td>\n",
       "    </tr>\n",
       "  </tbody>\n",
       "</table>\n",
       "<p>5 rows × 45 columns</p>\n",
       "</div>"
      ],
      "text/plain": [
       "   As of Year  Respondent  Agency Code  Loan Type  Property Type  \\\n",
       "0        2009  0000000008            1          3              1   \n",
       "1        2009  0000000008            1          1              1   \n",
       "2        2009  0000000008            1          1              1   \n",
       "3        2009  0000000008            1          1              1   \n",
       "4        2009  0000000008            1          1              1   \n",
       "\n",
       "   Loan Purpose  Occupancy  Loan Amount (000s)  Preapproval  Action Type  \\\n",
       "0             1          1                 218            3            6   \n",
       "1             3          1                 202            3            6   \n",
       "2             3          1                 115            3            6   \n",
       "3             3          1                 186            3            6   \n",
       "4             3          1                 140            3            3   \n",
       "\n",
       "             ...             Lien Status  Edit Status Sequence Number  \\\n",
       "0            ...                       4                         2860   \n",
       "1            ...                       4                         2861   \n",
       "2            ...                       4                         2862   \n",
       "3            ...                       4                         2863   \n",
       "4            ...                       1                         2864   \n",
       "\n",
       "  Population  Minority Population %  HUD Median Family Income  \\\n",
       "0   00002697                 080.68                  00070100   \n",
       "1   00004283                 058.44                  00070100   \n",
       "2   00005471                 073.84                  00070100   \n",
       "3   00005471                 073.84                  00070100   \n",
       "4   00002512                 065.84                  00070100   \n",
       "\n",
       "   Tract to MSA/MD Income % Number of Owner-occupied units  \\\n",
       "0                    093.31                       00000307   \n",
       "1                    148.98                       00000181   \n",
       "2                    115.07                       00000752   \n",
       "3                    115.07                       00000752   \n",
       "4                    112.12                       00000449   \n",
       "\n",
       "  Number of 1- to 4-Family units Application Date Indicator  \n",
       "0                       00000668                          2  \n",
       "1                       00000639                          2  \n",
       "2                       00001744                          2  \n",
       "3                       00001744                          2  \n",
       "4                       00000846                          0  \n",
       "\n",
       "[5 rows x 45 columns]"
      ]
     },
     "execution_count": 4,
     "metadata": {},
     "output_type": "execute_result"
    }
   ],
   "source": [
    "dataset.head()"
   ]
  },
  {
   "cell_type": "code",
   "execution_count": 5,
   "metadata": {
    "collapsed": false
   },
   "outputs": [
    {
     "data": {
      "text/plain": [
       "As of Year                              2009\n",
       "Respondent                        0000000008\n",
       "Agency Code                                1\n",
       "Loan Type                                  1\n",
       "Property Type                              1\n",
       "Loan Purpose                               3\n",
       "Occupancy                                  1\n",
       "Loan Amount (000s)                       294\n",
       "Preapproval                                3\n",
       "Action Type                                1\n",
       "MSA/MD                                 NA   \n",
       "State Code                                 2\n",
       "County Code                              220\n",
       "Census Tract Number                  0001.00\n",
       "Applicant Ethnicity                        3\n",
       "Co Applicant Ethnicity                     3\n",
       "Applicant Race 1                           6\n",
       "Applicant Race 2                            \n",
       "Applicant Race 3                            \n",
       "Applicant Race 4                            \n",
       "Applicant Race 5                            \n",
       "Co Applicant Race 1                        6\n",
       "Co Applicant Race 2                         \n",
       "Co Applicant Race 3                         \n",
       "Co Applicant Race 4                         \n",
       "Co Applicant Race 5                         \n",
       "Applicant Sex                              3\n",
       "Co Applicant Sex                           3\n",
       "Applicant Income (000s)                 0123\n",
       "Purchaser Type                             8\n",
       "Denial Reason 1                             \n",
       "Denial Reason 2                             \n",
       "Denial Reason 3                             \n",
       "Rate Spread                            NA   \n",
       "HOEPA Status                               2\n",
       "Lien Status                                1\n",
       "Edit Status                                 \n",
       "Sequence Number                         2960\n",
       "Population                          00003188\n",
       "Minority Population %                 028.67\n",
       "HUD Median Family Income            00070100\n",
       "Tract to MSA/MD Income %              108.97\n",
       "Number of Owner-occupied units      00000753\n",
       "Number of 1- to 4-Family units      00001378\n",
       "Application Date Indicator                 0\n",
       "Name: 100, dtype: object"
      ]
     },
     "execution_count": 5,
     "metadata": {},
     "output_type": "execute_result"
    }
   ],
   "source": [
    "dataset.iloc[100,:]"
   ]
  },
  {
   "cell_type": "code",
   "execution_count": 6,
   "metadata": {
    "collapsed": false
   },
   "outputs": [
    {
     "data": {
      "text/plain": [
       "8950936"
      ]
     },
     "execution_count": 6,
     "metadata": {},
     "output_type": "execute_result"
    }
   ],
   "source": [
    "#Not Needed\n",
    "#len(dataset[dataset['Action Type'] == 1])"
   ]
  },
  {
   "cell_type": "code",
   "execution_count": 7,
   "metadata": {
    "collapsed": false
   },
   "outputs": [
    {
     "data": {
      "text/plain": [
       "851769"
      ]
     },
     "execution_count": 7,
     "metadata": {},
     "output_type": "execute_result"
    }
   ],
   "source": [
    "#Not Needed\n",
    "#len(dataset[dataset['Action Type'] == 2])"
   ]
  },
  {
   "cell_type": "code",
   "execution_count": 8,
   "metadata": {
    "collapsed": false
   },
   "outputs": [
    {
     "data": {
      "text/plain": [
       "3012967"
      ]
     },
     "execution_count": 8,
     "metadata": {},
     "output_type": "execute_result"
    }
   ],
   "source": [
    "#Not Needed\n",
    "#len(dataset[dataset['Action Type'] == 3])"
   ]
  },
  {
   "cell_type": "code",
   "execution_count": 9,
   "metadata": {
    "collapsed": false
   },
   "outputs": [
    {
     "data": {
      "text/plain": [
       "6677819"
      ]
     },
     "execution_count": 9,
     "metadata": {},
     "output_type": "execute_result"
    }
   ],
   "source": [
    "#Not Needed\n",
    "#len(dataset[dataset['Action Type'] > 3])"
   ]
  },
  {
   "cell_type": "code",
   "execution_count": 8,
   "metadata": {
    "collapsed": false
   },
   "outputs": [],
   "source": [
    "dataset = dataset[dataset['Action Type'] <= 3]"
   ]
  },
  {
   "cell_type": "code",
   "execution_count": 9,
   "metadata": {
    "collapsed": false
   },
   "outputs": [
    {
     "data": {
      "text/plain": [
       "Index(['As of Year', 'Respondent', 'Agency Code', 'Loan Type', 'Property Type',\n",
       "       'Loan Purpose', 'Occupancy', 'Loan Amount (000s)', 'Preapproval',\n",
       "       'Action Type', 'MSA/MD', 'State Code', 'County Code',\n",
       "       'Census Tract Number', 'Applicant Ethnicity', 'Co Applicant Ethnicity',\n",
       "       'Applicant Race 1', 'Applicant Race 2', 'Applicant Race 3',\n",
       "       'Applicant Race 4', 'Applicant Race 5', 'Co Applicant Race 1',\n",
       "       'Co Applicant Race 2', 'Co Applicant Race 3', 'Co Applicant Race 4',\n",
       "       'Co Applicant Race 5', 'Applicant Sex', 'Co Applicant Sex',\n",
       "       'Applicant Income (000s)', 'Purchaser Type', 'Denial Reason 1',\n",
       "       'Denial Reason 2', 'Denial Reason 3', 'Rate Spread', 'HOEPA Status',\n",
       "       'Lien Status', 'Edit Status', 'Sequence Number', 'Population',\n",
       "       'Minority Population %', 'HUD Median Family Income',\n",
       "       'Tract to MSA/MD Income %', 'Number of Owner-occupied units',\n",
       "       'Number of 1- to 4-Family units', 'Application Date Indicator'],\n",
       "      dtype='object')"
      ]
     },
     "execution_count": 9,
     "metadata": {},
     "output_type": "execute_result"
    }
   ],
   "source": [
    "dataset.columns"
   ]
  },
  {
   "cell_type": "code",
   "execution_count": 10,
   "metadata": {
    "collapsed": true
   },
   "outputs": [],
   "source": [
    "den_reasons = dataset.iloc[:, 30:33] #store denial reasons"
   ]
  },
  {
   "cell_type": "code",
   "execution_count": 11,
   "metadata": {
    "collapsed": false
   },
   "outputs": [],
   "source": [
    "dataset.drop(dataset.columns[30:33],axis=1, inplace=True)"
   ]
  },
  {
   "cell_type": "code",
   "execution_count": 12,
   "metadata": {
    "collapsed": false
   },
   "outputs": [
    {
     "data": {
      "text/plain": [
       "Index(['As of Year', 'Respondent', 'Agency Code', 'Loan Type', 'Property Type',\n",
       "       'Loan Purpose', 'Occupancy', 'Loan Amount (000s)', 'Preapproval',\n",
       "       'Action Type', 'MSA/MD', 'State Code', 'County Code',\n",
       "       'Census Tract Number', 'Applicant Ethnicity', 'Co Applicant Ethnicity',\n",
       "       'Applicant Race 1', 'Applicant Race 2', 'Applicant Race 3',\n",
       "       'Applicant Race 4', 'Applicant Race 5', 'Co Applicant Race 1',\n",
       "       'Co Applicant Race 2', 'Co Applicant Race 3', 'Co Applicant Race 4',\n",
       "       'Co Applicant Race 5', 'Applicant Sex', 'Co Applicant Sex',\n",
       "       'Applicant Income (000s)', 'Purchaser Type', 'Rate Spread',\n",
       "       'HOEPA Status', 'Lien Status', 'Edit Status', 'Sequence Number',\n",
       "       'Population', 'Minority Population %', 'HUD Median Family Income',\n",
       "       'Tract to MSA/MD Income %', 'Number of Owner-occupied units',\n",
       "       'Number of 1- to 4-Family units', 'Application Date Indicator'],\n",
       "      dtype='object')"
      ]
     },
     "execution_count": 12,
     "metadata": {},
     "output_type": "execute_result"
    }
   ],
   "source": [
    "#Not Needed\n",
    "#dataset.columns"
   ]
  },
  {
   "cell_type": "code",
   "execution_count": 13,
   "metadata": {
    "collapsed": false
   },
   "outputs": [],
   "source": [
    "# Remove year, respondant, race info (not ethnicity) and applicaiton date indicator\n",
    "dataset.drop(dataset.columns[pd.Index([0,1,41])],axis=1, inplace=True)\n",
    "dataset.drop(dataset.columns[pd.Index([16,17,18,19,20])],axis=1, inplace=True)\n",
    "dataset.drop(dataset.columns[pd.Index([21,22,23,24,25])],axis=1, inplace=True)"
   ]
  },
  {
   "cell_type": "code",
   "execution_count": 14,
   "metadata": {
    "collapsed": false
   },
   "outputs": [
    {
     "data": {
      "text/plain": [
       "Index(['Agency Code', 'Loan Type', 'Property Type', 'Loan Purpose',\n",
       "       'Occupancy', 'Loan Amount (000s)', 'Preapproval', 'Action Type',\n",
       "       'MSA/MD', 'State Code', 'County Code', 'Census Tract Number',\n",
       "       'Applicant Ethnicity', 'Co Applicant Ethnicity', 'Applicant Race 1',\n",
       "       'Applicant Race 2', 'Co Applicant Race 3', 'Co Applicant Race 4',\n",
       "       'Co Applicant Race 5', 'Applicant Sex', 'Co Applicant Sex',\n",
       "       'Edit Status', 'Sequence Number', 'Population', 'Minority Population %',\n",
       "       'HUD Median Family Income', 'Tract to MSA/MD Income %',\n",
       "       'Number of Owner-occupied units', 'Number of 1- to 4-Family units'],\n",
       "      dtype='object')"
      ]
     },
     "execution_count": 14,
     "metadata": {},
     "output_type": "execute_result"
    }
   ],
   "source": [
    "#Not Needed\n",
    "#dataset.columns"
   ]
  },
  {
   "cell_type": "code",
   "execution_count": 15,
   "metadata": {
    "collapsed": true
   },
   "outputs": [],
   "source": [
    "dataset['Action Type'] = dataset['Action Type'].map({1:1,2:1,3:0}) # Convert approved to 1 and denied to 0"
   ]
  },
  {
   "cell_type": "code",
   "execution_count": 16,
   "metadata": {
    "collapsed": false
   },
   "outputs": [
    {
     "data": {
      "text/plain": [
       "4           0\n",
       "8           0\n",
       "23          1\n",
       "27          1\n",
       "31          0\n",
       "36          1\n",
       "42          1\n",
       "47          0\n",
       "48          0\n",
       "55          1\n",
       "56          1\n",
       "60          0\n",
       "62          1\n",
       "63          0\n",
       "66          1\n",
       "67          0\n",
       "96          1\n",
       "98          1\n",
       "99          1\n",
       "100         1\n",
       "101         1\n",
       "102         0\n",
       "103         0\n",
       "104         1\n",
       "105         1\n",
       "106         1\n",
       "107         1\n",
       "108         1\n",
       "109         1\n",
       "110         0\n",
       "           ..\n",
       "19493356    0\n",
       "19493358    0\n",
       "19493360    1\n",
       "19493361    1\n",
       "19493362    1\n",
       "19493363    1\n",
       "19493364    1\n",
       "19493365    1\n",
       "19493366    0\n",
       "19493367    0\n",
       "19493368    0\n",
       "19493471    1\n",
       "19493472    1\n",
       "19493473    1\n",
       "19493474    1\n",
       "19493475    1\n",
       "19493476    1\n",
       "19493477    1\n",
       "19493478    1\n",
       "19493479    1\n",
       "19493480    1\n",
       "19493481    1\n",
       "19493482    1\n",
       "19493483    1\n",
       "19493484    1\n",
       "19493485    1\n",
       "19493486    1\n",
       "19493487    1\n",
       "19493488    1\n",
       "19493489    1\n",
       "Name: Action Type, dtype: int64"
      ]
     },
     "execution_count": 16,
     "metadata": {},
     "output_type": "execute_result"
    }
   ],
   "source": [
    "#Not Needed\n",
    "#dataset['Action Type']"
   ]
  },
  {
   "cell_type": "code",
   "execution_count": 17,
   "metadata": {
    "collapsed": false
   },
   "outputs": [
    {
     "data": {
      "text/plain": [
       "28580"
      ]
     },
     "execution_count": 17,
     "metadata": {},
     "output_type": "execute_result"
    }
   ],
   "source": [
    "#Not Needed\n",
    "#len(set(dataset['Census Tract Number']))"
   ]
  },
  {
   "cell_type": "code",
   "execution_count": 18,
   "metadata": {
    "collapsed": false
   },
   "outputs": [],
   "source": [
    "dataset.drop('Census Tract Number',axis=1, inplace=True)"
   ]
  },
  {
   "cell_type": "code",
   "execution_count": 19,
   "metadata": {
    "collapsed": false
   },
   "outputs": [
    {
     "data": {
      "text/plain": [
       "1859014"
      ]
     },
     "execution_count": 19,
     "metadata": {},
     "output_type": "execute_result"
    }
   ],
   "source": [
    "#Not Needed\n",
    "#len(set(dataset['Sequence Number']))"
   ]
  },
  {
   "cell_type": "code",
   "execution_count": 20,
   "metadata": {
    "collapsed": true
   },
   "outputs": [],
   "source": [
    "dataset.drop('Sequence Number',axis=1, inplace=True)"
   ]
  },
  {
   "cell_type": "code",
   "execution_count": 21,
   "metadata": {
    "collapsed": false
   },
   "outputs": [
    {
     "data": {
      "text/plain": [
       "Index(['Agency Code', 'Loan Type', 'Property Type', 'Loan Purpose',\n",
       "       'Occupancy', 'Loan Amount (000s)', 'Preapproval', 'Action Type',\n",
       "       'MSA/MD', 'State Code', 'County Code', 'Applicant Ethnicity',\n",
       "       'Co Applicant Ethnicity', 'Applicant Race 1', 'Applicant Race 2',\n",
       "       'Co Applicant Race 3', 'Co Applicant Race 4', 'Co Applicant Race 5',\n",
       "       'Applicant Sex', 'Co Applicant Sex', 'Edit Status', 'Population',\n",
       "       'Minority Population %', 'HUD Median Family Income',\n",
       "       'Tract to MSA/MD Income %', 'Number of Owner-occupied units',\n",
       "       'Number of 1- to 4-Family units'],\n",
       "      dtype='object')"
      ]
     },
     "execution_count": 21,
     "metadata": {},
     "output_type": "execute_result"
    }
   ],
   "source": [
    "dataset.columns"
   ]
  },
  {
   "cell_type": "code",
   "execution_count": 22,
   "metadata": {
    "collapsed": true
   },
   "outputs": [],
   "source": [
    "dataset.drop(dataset.columns[13:17],axis=1, inplace=True)"
   ]
  },
  {
   "cell_type": "code",
   "execution_count": 23,
   "metadata": {
    "collapsed": true
   },
   "outputs": [],
   "source": [
    "dataset.drop(dataset.columns[13],axis=1, inplace=True)"
   ]
  },
  {
   "cell_type": "markdown",
   "metadata": {},
   "source": [
    "Need to OneHotEncode:\n",
    "    'Agency Code', \n",
    "    'Loan Type', \n",
    "    'Property Type', \n",
    "    'Loan Purpose',\n",
    "    'Preapproval',\n",
    "    'State Code', \n",
    "    'County Code',\n",
    "    'Applicant Ethnicity', \n",
    "    'Co Applicant Ethnicity', \n",
    "    'Applicant Sex', \n",
    "    'Co Applicant Sex',\n",
    "    'Edit Status'\n",
    "    \n",
    "Need to scale:\n",
    "    'Occupancy', \n",
    "    'Loan Amount (000s)'\n",
    "    'MSA/MD'\n",
    "    'Population', \n",
    "    'Minority Population %',\n",
    "    'HUD Median Family Income', \n",
    "    'Tract to MSA/MD Income %',\n",
    "    'Number of Owner-occupied units', \n",
    "    'Number of 1- to 4-Family units'"
   ]
  },
  {
   "cell_type": "code",
   "execution_count": 24,
   "metadata": {
    "collapsed": true
   },
   "outputs": [],
   "source": [
    "#Write cleaned data to file\n",
    "dataset.to_csv(\"cleaned_data.csv\")\n",
    "den_reasons.to_csv(\"denial_reasons.csv\")"
   ]
  },
  {
   "cell_type": "code",
   "execution_count": null,
   "metadata": {
    "collapsed": true
   },
   "outputs": [],
   "source": []
  }
 ],
 "metadata": {
  "anaconda-cloud": {},
  "kernelspec": {
   "display_name": "Python [conda root]",
   "language": "python",
   "name": "conda-root-py"
  },
  "language_info": {
   "codemirror_mode": {
    "name": "ipython",
    "version": 3
   },
   "file_extension": ".py",
   "mimetype": "text/x-python",
   "name": "python",
   "nbconvert_exporter": "python",
   "pygments_lexer": "ipython3",
   "version": "3.5.2"
  }
 },
 "nbformat": 4,
 "nbformat_minor": 1
}

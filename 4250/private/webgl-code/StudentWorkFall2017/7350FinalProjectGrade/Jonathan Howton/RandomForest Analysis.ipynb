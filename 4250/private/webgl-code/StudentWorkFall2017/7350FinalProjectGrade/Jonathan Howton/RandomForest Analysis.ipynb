{
 "cells": [
  {
   "cell_type": "code",
   "execution_count": 23,
   "metadata": {
    "collapsed": false
   },
   "outputs": [],
   "source": [
    "import numpy as np\n",
    "import pandas as pd\n",
    "from sklearn.ensemble import RandomForestClassifier, ExtraTreesClassifier\n",
    "import matplotlib.pyplot as plt\n",
    "from sklearn.model_selection import train_test_split"
   ]
  },
  {
   "cell_type": "code",
   "execution_count": 2,
   "metadata": {
    "collapsed": false
   },
   "outputs": [],
   "source": [
    "X = pd.read_csv('encoded_scaled_features.csv')\n",
    "y = pd.read_csv('classes.csv', names=['Class'])\n",
    "#forgot and wrote row names (indices), so need to delete first col\n",
    "X.drop('Unnamed: 0', axis = 1, inplace = True)"
   ]
  },
  {
   "cell_type": "code",
   "execution_count": 3,
   "metadata": {
    "collapsed": true
   },
   "outputs": [],
   "source": [
    "# Make train and test sets\n",
    "Xtrain, Xtest, ytrain, ytest = train_test_split(X, y, test_size = 0.33)\n",
    "del X\n",
    "del y"
   ]
  },
  {
   "cell_type": "code",
   "execution_count": 4,
   "metadata": {
    "collapsed": false
   },
   "outputs": [],
   "source": [
    "forest = RandomForestClassifier(n_estimators=100, n_jobs = 6)\n",
    "forest.fit(Xtrain, ytrain.values.ravel())\n",
    "importances = forest.feature_importances_\n",
    "std = np.std([tree.feature_importances_ for tree in forest.estimators_],\n",
    "             axis=0)\n",
    "indices = np.argsort(importances)[::-1]"
   ]
  },
  {
   "cell_type": "code",
   "execution_count": 5,
   "metadata": {
    "collapsed": false
   },
   "outputs": [
    {
     "data": {
      "text/plain": [
       "56"
      ]
     },
     "execution_count": 5,
     "metadata": {},
     "output_type": "execute_result"
    }
   ],
   "source": [
    "import sys\n",
    "sys.getsizeof(forest)"
   ]
  },
  {
   "cell_type": "code",
   "execution_count": 6,
   "metadata": {
    "collapsed": false
   },
   "outputs": [
    {
     "name": "stdout",
     "output_type": "stream",
     "text": [
      "Feature ranking:\n",
      "1. feature 1 (0.281669)\n",
      "2. feature 3 (0.136070)\n",
      "3. feature 2 (0.125451)\n",
      "4. feature 6 (0.125167)\n",
      "5. feature 5 (0.124825)\n",
      "6. feature 4 (0.102179)\n",
      "7. feature 20 (0.007745)\n",
      "8. feature 0 (0.006049)\n",
      "9. feature 21 (0.005136)\n",
      "10. feature 9 (0.005084)\n",
      "11. feature 7 (0.004836)\n",
      "12. feature 40 (0.004666)\n",
      "13. feature 14 (0.004617)\n",
      "14. feature 11 (0.004403)\n",
      "15. feature 12 (0.004324)\n",
      "16. feature 22 (0.004121)\n",
      "17. feature 27 (0.003926)\n",
      "18. feature 31 (0.003895)\n",
      "19. feature 35 (0.003619)\n",
      "20. feature 13 (0.003513)\n",
      "21. feature 8 (0.003507)\n",
      "22. feature 36 (0.003144)\n",
      "23. feature 25 (0.003050)\n",
      "24. feature 10 (0.003028)\n",
      "25. feature 26 (0.002362)\n",
      "26. feature 34 (0.002360)\n",
      "27. feature 28 (0.002333)\n",
      "28. feature 37 (0.002263)\n",
      "29. feature 17 (0.002152)\n",
      "30. feature 18 (0.002110)\n",
      "31. feature 43 (0.001754)\n",
      "32. feature 24 (0.001663)\n",
      "33. feature 15 (0.001638)\n",
      "34. feature 39 (0.001113)\n",
      "35. feature 32 (0.001031)\n",
      "36. feature 30 (0.000912)\n",
      "37. feature 23 (0.000890)\n",
      "38. feature 38 (0.000842)\n",
      "39. feature 29 (0.000833)\n",
      "40. feature 41 (0.000746)\n",
      "41. feature 16 (0.000488)\n",
      "42. feature 33 (0.000210)\n",
      "43. feature 19 (0.000150)\n",
      "44. feature 42 (0.000128)\n"
     ]
    },
    {
     "data": {
      "image/png": "[encoded data removed]",
      "text/plain": [
       "<matplotlib.figure.Figure at 0x7fd8380a8ba8>"
      ]
     },
     "metadata": {},
     "output_type": "display_data"
    }
   ],
   "source": [
    "# Print the feature ranking\n",
    "print(\"Feature ranking:\")\n",
    "\n",
    "for f in range(Xtrain.shape[1]):\n",
    "    print(\"%d. feature %d (%f)\" % (f + 1, indices[f], importances[indices[f]]))\n",
    "\n",
    "# Plot the feature importances of the forest\n",
    "plt.figure()\n",
    "plt.title(\"Feature importances\")\n",
    "plt.bar(range(Xtrain.shape[1]), importances[indices],\n",
    "       color=\"r\", yerr=std[indices], align=\"center\")\n",
    "plt.xticks(range(Xtrain.shape[1]), indices)\n",
    "plt.xlim([-1, Xtrain.shape[1]])\n",
    "plt.show()"
   ]
  },
  {
   "cell_type": "code",
   "execution_count": 8,
   "metadata": {
    "collapsed": false
   },
   "outputs": [],
   "source": [
    "drop_cols = list(Xtest.columns[indices[6:]])\n",
    "Xtrain.drop(drop_cols, axis = 1, inplace = True)\n",
    "Xtest.drop(drop_cols, axis = 1, inplace = True)"
   ]
  },
  {
   "cell_type": "code",
   "execution_count": 9,
   "metadata": {
    "collapsed": false
   },
   "outputs": [
    {
     "data": {
      "text/plain": [
       "RandomForestClassifier(bootstrap=True, class_weight=None, criterion='gini',\n",
       "            max_depth=None, max_features='auto', max_leaf_nodes=None,\n",
       "            min_impurity_split=1e-07, min_samples_leaf=1,\n",
       "            min_samples_split=2, min_weight_fraction_leaf=0.0,\n",
       "            n_estimators=100, n_jobs=6, oob_score=False, random_state=None,\n",
       "            verbose=0, warm_start=False)"
      ]
     },
     "execution_count": 9,
     "metadata": {},
     "output_type": "execute_result"
    }
   ],
   "source": [
    "forest.fit(Xtrain, ytrain.values.ravel())"
   ]
  },
  {
   "cell_type": "code",
   "execution_count": 22,
   "metadata": {
    "collapsed": false
   },
   "outputs": [
    {
     "name": "stdout",
     "output_type": "stream",
     "text": [
      "Runtime: 290.0212540626526\n",
      "Score: 0.7034697379617889\n"
     ]
    }
   ],
   "source": [
    "from time import time\n",
    "start_time = time()\n",
    "score = forest.score(Xtest.iloc[:,:], ytest)\n",
    "elapsed_time = time() - start_time\n",
    "print(\"Runtime: {}\\nScore: {}\".format(elapsed_time, score))"
   ]
  },
  {
   "cell_type": "code",
   "execution_count": null,
   "metadata": {
    "collapsed": true
   },
   "outputs": [],
   "source": []
  },
  {
   "cell_type": "code",
   "execution_count": null,
   "metadata": {
    "collapsed": true
   },
   "outputs": [],
   "source": []
  }
 ],
 "metadata": {
  "kernelspec": {
   "display_name": "Python [conda root]",
   "language": "python",
   "name": "conda-root-py"
  },
  "language_info": {
   "codemirror_mode": {
    "name": "ipython",
    "version": 3
   },
   "file_extension": ".py",
   "mimetype": "text/x-python",
   "name": "python",
   "nbconvert_exporter": "python",
   "pygments_lexer": "ipython3",
   "version": "3.5.2"
  }
 },
 "nbformat": 4,
 "nbformat_minor": 1
}

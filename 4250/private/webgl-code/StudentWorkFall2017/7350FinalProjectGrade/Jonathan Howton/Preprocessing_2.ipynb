{
 "cells": [
  {
   "cell_type": "markdown",
   "metadata": {},
   "source": [
    "Need to OneHotEncode: 'Agency Code', 'Loan Type', 'Property Type', 'Loan Purpose', 'Preapproval', 'State Code', 'County Code', 'Applicant Ethnicity', 'Co Applicant Ethnicity', 'Applicant Sex', 'Co Applicant Sex', 'Edit Status'\n",
    "\n",
    "Need to scale: 'Occupancy', 'Loan Amount (000s)' 'MSA/MD' 'Population', 'Minority Population %', 'HUD Median Family Income', 'Tract to MSA/MD Income %', 'Number of Owner-occupied units', 'Number of 1- to 4-Family units'"
   ]
  },
  {
   "cell_type": "code",
   "execution_count": 11,
   "metadata": {
    "collapsed": false
   },
   "outputs": [],
   "source": [
    "#import important libraries\n",
    "import pandas as pd\n",
    "import numpy as np\n",
    "\n",
    "#Read in processed dataset\n",
    "#dataset = pd.read_csv('cleaned_data.csv')\n"
   ]
  },
  {
   "cell_type": "code",
   "execution_count": 12,
   "metadata": {
    "collapsed": false
   },
   "outputs": [],
   "source": [
    "#[dataset.columns[x] for x in [9,11,17,18,19,20,21,22]] #These columns have mixed/missing values"
   ]
  },
  {
   "cell_type": "code",
   "execution_count": 13,
   "metadata": {
    "collapsed": true
   },
   "outputs": [],
   "source": [
    "# Dropping MSA/MD (Metro location ID) because some don't have it, and it is difficult to compare because of this.\n",
    "#dataset.drop('MSA/MD',axis=1, inplace=True)\n",
    "#Drop MSA/MD Income % because this is no longer relevant\n",
    "#dataset.drop('Tract to MSA/MD Income %',axis=1, inplace=True)"
   ]
  },
  {
   "cell_type": "code",
   "execution_count": 14,
   "metadata": {
    "collapsed": false
   },
   "outputs": [],
   "source": [
    "#len(dataset)"
   ]
  },
  {
   "cell_type": "code",
   "execution_count": 15,
   "metadata": {
    "collapsed": true
   },
   "outputs": [],
   "source": [
    "#data_cleaned = dataset.dropna()"
   ]
  },
  {
   "cell_type": "code",
   "execution_count": 16,
   "metadata": {
    "collapsed": false
   },
   "outputs": [],
   "source": [
    "#len(data_cleaned)/len(dataset)"
   ]
  },
  {
   "cell_type": "code",
   "execution_count": 17,
   "metadata": {
    "collapsed": true
   },
   "outputs": [],
   "source": [
    "#data_cleaned.to_csv('test_out.csv')"
   ]
  },
  {
   "cell_type": "code",
   "execution_count": 18,
   "metadata": {
    "collapsed": false
   },
   "outputs": [
    {
     "name": "stderr",
     "output_type": "stream",
     "text": [
      "/usr/bin/anaconda3/lib/python3.5/site-packages/IPython/core/interactiveshell.py:2717: DtypeWarning: Columns (11,17,18,19,20,21) have mixed types. Specify dtype option on import or set low_memory=False.\n",
      "  interactivity=interactivity, compiler=compiler, result=result)\n"
     ]
    }
   ],
   "source": [
    "data_cleaned = pd.read_csv('test_out.csv')"
   ]
  },
  {
   "cell_type": "code",
   "execution_count": 19,
   "metadata": {
    "collapsed": false
   },
   "outputs": [],
   "source": [
    "#del dataset"
   ]
  },
  {
   "cell_type": "code",
   "execution_count": 20,
   "metadata": {
    "collapsed": false
   },
   "outputs": [
    {
     "data": {
      "text/plain": [
       "'County Code'"
      ]
     },
     "execution_count": 20,
     "metadata": {},
     "output_type": "execute_result"
    }
   ],
   "source": [
    "data_cleaned.columns[11]"
   ]
  },
  {
   "cell_type": "code",
   "execution_count": 21,
   "metadata": {
    "collapsed": false
   },
   "outputs": [
    {
     "data": {
      "text/plain": [
       "Index(['Population', 'Minority Population %', 'HUD Median Family Income',\n",
       "       'Number of Owner-occupied units', 'Number of 1- to 4-Family units'],\n",
       "      dtype='object')"
      ]
     },
     "execution_count": 21,
     "metadata": {},
     "output_type": "execute_result"
    }
   ],
   "source": [
    "data_cleaned.columns[17:22]"
   ]
  },
  {
   "cell_type": "code",
   "execution_count": 22,
   "metadata": {
    "collapsed": false
   },
   "outputs": [
    {
     "data": {
      "text/html": [
       "<div>\n",
       "<table border=\"1\" class=\"dataframe\">\n",
       "  <thead>\n",
       "    <tr style=\"text-align: right;\">\n",
       "      <th></th>\n",
       "      <th>Unnamed: 0</th>\n",
       "      <th>Unnamed: 0.1</th>\n",
       "      <th>Agency Code</th>\n",
       "      <th>Loan Type</th>\n",
       "      <th>Property Type</th>\n",
       "      <th>Loan Purpose</th>\n",
       "      <th>Occupancy</th>\n",
       "      <th>Loan Amount (000s)</th>\n",
       "      <th>Preapproval</th>\n",
       "      <th>Action Type</th>\n",
       "      <th>...</th>\n",
       "      <th>Applicant Ethnicity</th>\n",
       "      <th>Co Applicant Ethnicity</th>\n",
       "      <th>Applicant Sex</th>\n",
       "      <th>Co Applicant Sex</th>\n",
       "      <th>Edit Status</th>\n",
       "      <th>Population</th>\n",
       "      <th>Minority Population %</th>\n",
       "      <th>HUD Median Family Income</th>\n",
       "      <th>Number of Owner-occupied units</th>\n",
       "      <th>Number of 1- to 4-Family units</th>\n",
       "    </tr>\n",
       "  </thead>\n",
       "  <tbody>\n",
       "    <tr>\n",
       "      <th>0</th>\n",
       "      <td>0</td>\n",
       "      <td>4</td>\n",
       "      <td>1</td>\n",
       "      <td>1</td>\n",
       "      <td>1</td>\n",
       "      <td>3</td>\n",
       "      <td>1</td>\n",
       "      <td>140</td>\n",
       "      <td>3</td>\n",
       "      <td>0</td>\n",
       "      <td>...</td>\n",
       "      <td>2</td>\n",
       "      <td>5</td>\n",
       "      <td>1</td>\n",
       "      <td>5</td>\n",
       "      <td></td>\n",
       "      <td>00002512</td>\n",
       "      <td>065.84</td>\n",
       "      <td>00070100</td>\n",
       "      <td>00000449</td>\n",
       "      <td>00000846</td>\n",
       "    </tr>\n",
       "    <tr>\n",
       "      <th>1</th>\n",
       "      <td>1</td>\n",
       "      <td>8</td>\n",
       "      <td>1</td>\n",
       "      <td>2</td>\n",
       "      <td>1</td>\n",
       "      <td>3</td>\n",
       "      <td>1</td>\n",
       "      <td>316</td>\n",
       "      <td>3</td>\n",
       "      <td>0</td>\n",
       "      <td>...</td>\n",
       "      <td>2</td>\n",
       "      <td>5</td>\n",
       "      <td>1</td>\n",
       "      <td>5</td>\n",
       "      <td></td>\n",
       "      <td>00007445</td>\n",
       "      <td>026.02</td>\n",
       "      <td>00070100</td>\n",
       "      <td>00001955</td>\n",
       "      <td>00002400</td>\n",
       "    </tr>\n",
       "    <tr>\n",
       "      <th>2</th>\n",
       "      <td>2</td>\n",
       "      <td>23</td>\n",
       "      <td>1</td>\n",
       "      <td>1</td>\n",
       "      <td>1</td>\n",
       "      <td>3</td>\n",
       "      <td>1</td>\n",
       "      <td>258</td>\n",
       "      <td>3</td>\n",
       "      <td>1</td>\n",
       "      <td>...</td>\n",
       "      <td>2</td>\n",
       "      <td>2</td>\n",
       "      <td>1</td>\n",
       "      <td>2</td>\n",
       "      <td></td>\n",
       "      <td>00005360</td>\n",
       "      <td>007.93</td>\n",
       "      <td>00070100</td>\n",
       "      <td>00001678</td>\n",
       "      <td>00003200</td>\n",
       "    </tr>\n",
       "    <tr>\n",
       "      <th>3</th>\n",
       "      <td>3</td>\n",
       "      <td>27</td>\n",
       "      <td>1</td>\n",
       "      <td>1</td>\n",
       "      <td>1</td>\n",
       "      <td>3</td>\n",
       "      <td>1</td>\n",
       "      <td>67</td>\n",
       "      <td>3</td>\n",
       "      <td>1</td>\n",
       "      <td>...</td>\n",
       "      <td>2</td>\n",
       "      <td>2</td>\n",
       "      <td>1</td>\n",
       "      <td>2</td>\n",
       "      <td></td>\n",
       "      <td>00005802</td>\n",
       "      <td>013.31</td>\n",
       "      <td>00070100</td>\n",
       "      <td>00001520</td>\n",
       "      <td>00002389</td>\n",
       "    </tr>\n",
       "    <tr>\n",
       "      <th>4</th>\n",
       "      <td>4</td>\n",
       "      <td>31</td>\n",
       "      <td>1</td>\n",
       "      <td>1</td>\n",
       "      <td>1</td>\n",
       "      <td>3</td>\n",
       "      <td>1</td>\n",
       "      <td>112</td>\n",
       "      <td>3</td>\n",
       "      <td>0</td>\n",
       "      <td>...</td>\n",
       "      <td>2</td>\n",
       "      <td>2</td>\n",
       "      <td>1</td>\n",
       "      <td>2</td>\n",
       "      <td></td>\n",
       "      <td>00006942</td>\n",
       "      <td>019.30</td>\n",
       "      <td>00070100</td>\n",
       "      <td>00001576</td>\n",
       "      <td>00002506</td>\n",
       "    </tr>\n",
       "  </tbody>\n",
       "</table>\n",
       "<p>5 rows × 22 columns</p>\n",
       "</div>"
      ],
      "text/plain": [
       "   Unnamed: 0  Unnamed: 0.1  Agency Code  Loan Type  Property Type  \\\n",
       "0           0             4            1          1              1   \n",
       "1           1             8            1          2              1   \n",
       "2           2            23            1          1              1   \n",
       "3           3            27            1          1              1   \n",
       "4           4            31            1          1              1   \n",
       "\n",
       "   Loan Purpose  Occupancy  Loan Amount (000s)  Preapproval  Action Type  \\\n",
       "0             3          1                 140            3            0   \n",
       "1             3          1                 316            3            0   \n",
       "2             3          1                 258            3            1   \n",
       "3             3          1                  67            3            1   \n",
       "4             3          1                 112            3            0   \n",
       "\n",
       "               ...                Applicant Ethnicity Co Applicant Ethnicity  \\\n",
       "0              ...                                  2                      5   \n",
       "1              ...                                  2                      5   \n",
       "2              ...                                  2                      2   \n",
       "3              ...                                  2                      2   \n",
       "4              ...                                  2                      2   \n",
       "\n",
       "   Applicant Sex  Co Applicant Sex  Edit Status  Population  \\\n",
       "0              1                 5                 00002512   \n",
       "1              1                 5                 00007445   \n",
       "2              1                 2                 00005360   \n",
       "3              1                 2                 00005802   \n",
       "4              1                 2                 00006942   \n",
       "\n",
       "  Minority Population % HUD Median Family Income  \\\n",
       "0                065.84                 00070100   \n",
       "1                026.02                 00070100   \n",
       "2                007.93                 00070100   \n",
       "3                013.31                 00070100   \n",
       "4                019.30                 00070100   \n",
       "\n",
       "  Number of Owner-occupied units Number of 1- to 4-Family units  \n",
       "0                       00000449                       00000846  \n",
       "1                       00001955                       00002400  \n",
       "2                       00001678                       00003200  \n",
       "3                       00001520                       00002389  \n",
       "4                       00001576                       00002506  \n",
       "\n",
       "[5 rows x 22 columns]"
      ]
     },
     "execution_count": 22,
     "metadata": {},
     "output_type": "execute_result"
    }
   ],
   "source": [
    "data_cleaned.head()"
   ]
  },
  {
   "cell_type": "code",
   "execution_count": 23,
   "metadata": {
    "collapsed": false
   },
   "outputs": [],
   "source": [
    "def is_num(x):\n",
    "    try:\n",
    "        float(x)\n",
    "        return True\n",
    "    except:\n",
    "        return False\n"
   ]
  },
  {
   "cell_type": "code",
   "execution_count": 24,
   "metadata": {
    "collapsed": false
   },
   "outputs": [
    {
     "data": {
      "text/plain": [
       "0    True\n",
       "1    True\n",
       "2    True\n",
       "3    True\n",
       "4    True\n",
       "Name: Minority Population %, dtype: bool"
      ]
     },
     "execution_count": 24,
     "metadata": {},
     "output_type": "execute_result"
    }
   ],
   "source": [
    "data_cleaned['Minority Population %'].head().apply(lambda x: is_num(x))"
   ]
  },
  {
   "cell_type": "code",
   "execution_count": 25,
   "metadata": {
    "collapsed": false
   },
   "outputs": [
    {
     "data": {
      "text/plain": [
       "12511752"
      ]
     },
     "execution_count": 25,
     "metadata": {},
     "output_type": "execute_result"
    }
   ],
   "source": [
    "data_cleaned = data_cleaned[data_cleaned['County Code'].apply(lambda x: is_num(x))]\n",
    "len(data_cleaned)"
   ]
  },
  {
   "cell_type": "code",
   "execution_count": 26,
   "metadata": {
    "collapsed": false
   },
   "outputs": [
    {
     "data": {
      "text/plain": [
       "12479174"
      ]
     },
     "execution_count": 26,
     "metadata": {},
     "output_type": "execute_result"
    }
   ],
   "source": [
    "data_cleaned = data_cleaned[data_cleaned['Population'].apply(lambda x: is_num(x))]\n",
    "len(data_cleaned)"
   ]
  },
  {
   "cell_type": "code",
   "execution_count": 27,
   "metadata": {
    "collapsed": false
   },
   "outputs": [
    {
     "data": {
      "text/plain": [
       "12478966"
      ]
     },
     "execution_count": 27,
     "metadata": {},
     "output_type": "execute_result"
    }
   ],
   "source": [
    "data_cleaned = data_cleaned[data_cleaned['Minority Population %'].apply(lambda x: is_num(x))]\n",
    "len(data_cleaned)"
   ]
  },
  {
   "cell_type": "code",
   "execution_count": 28,
   "metadata": {
    "collapsed": false
   },
   "outputs": [
    {
     "data": {
      "text/plain": [
       "12478966"
      ]
     },
     "execution_count": 28,
     "metadata": {},
     "output_type": "execute_result"
    }
   ],
   "source": [
    "data_cleaned = data_cleaned[data_cleaned['HUD Median Family Income'].apply(lambda x: is_num(x))]\n",
    "len(data_cleaned)"
   ]
  },
  {
   "cell_type": "code",
   "execution_count": 29,
   "metadata": {
    "collapsed": false
   },
   "outputs": [
    {
     "data": {
      "text/plain": [
       "12472596"
      ]
     },
     "execution_count": 29,
     "metadata": {},
     "output_type": "execute_result"
    }
   ],
   "source": [
    "data_cleaned = data_cleaned[data_cleaned['Number of Owner-occupied units'].apply(lambda x: is_num(x))]\n",
    "len(data_cleaned)"
   ]
  },
  {
   "cell_type": "code",
   "execution_count": 30,
   "metadata": {
    "collapsed": false
   },
   "outputs": [
    {
     "data": {
      "text/plain": [
       "12470767"
      ]
     },
     "execution_count": 30,
     "metadata": {},
     "output_type": "execute_result"
    }
   ],
   "source": [
    "data_cleaned = data_cleaned[data_cleaned['Number of 1- to 4-Family units'].apply(lambda x: is_num(x))]\n",
    "len(data_cleaned)"
   ]
  },
  {
   "cell_type": "code",
   "execution_count": 31,
   "metadata": {
    "collapsed": false
   },
   "outputs": [],
   "source": [
    "data_cleaned = data_cleaned.iloc[:, 2:]"
   ]
  },
  {
   "cell_type": "code",
   "execution_count": 32,
   "metadata": {
    "collapsed": true
   },
   "outputs": [],
   "source": [
    "data_cleaned.drop(['County Code', 'State Code', 'Edit Status'], axis = 1, inplace = True)"
   ]
  },
  {
   "cell_type": "code",
   "execution_count": 33,
   "metadata": {
    "collapsed": false
   },
   "outputs": [
    {
     "data": {
      "text/plain": [
       "Index(['Agency Code', 'Loan Type', 'Property Type', 'Loan Purpose',\n",
       "       'Occupancy', 'Loan Amount (000s)', 'Preapproval', 'Action Type',\n",
       "       'Applicant Ethnicity', 'Co Applicant Ethnicity', 'Applicant Sex',\n",
       "       'Co Applicant Sex', 'Population', 'Minority Population %',\n",
       "       'HUD Median Family Income', 'Number of Owner-occupied units',\n",
       "       'Number of 1- to 4-Family units'],\n",
       "      dtype='object')"
      ]
     },
     "execution_count": 33,
     "metadata": {},
     "output_type": "execute_result"
    }
   ],
   "source": [
    "data_cleaned.columns"
   ]
  },
  {
   "cell_type": "code",
   "execution_count": 34,
   "metadata": {
    "collapsed": false
   },
   "outputs": [
    {
     "data": {
      "text/plain": [
       "6"
      ]
     },
     "execution_count": 34,
     "metadata": {},
     "output_type": "execute_result"
    }
   ],
   "source": [
    "len(set(data_cleaned['Agency Code']))"
   ]
  },
  {
   "cell_type": "code",
   "execution_count": 35,
   "metadata": {
    "collapsed": true
   },
   "outputs": [],
   "source": [
    "from sklearn.preprocessing import OneHotEncoder, LabelEncoder, MinMaxScaler\n",
    "from sklearn.pipeline import FeatureUnion\n",
    "from sklearn.decomposition import PCA\n",
    "from sklearn.feature_selection import SelectKBest"
   ]
  },
  {
   "cell_type": "code",
   "execution_count": 36,
   "metadata": {
    "collapsed": true
   },
   "outputs": [],
   "source": [
    "cats = ['Agency Code', 'Loan Type', 'Property Type', 'Loan Purpose', 'Preapproval', 'Applicant Ethnicity', 'Co Applicant Ethnicity', 'Applicant Sex', 'Co Applicant Sex']\n",
    "scale_feats = ['Occupancy', 'Loan Amount (000s)', 'Population', 'Minority Population %', 'HUD Median Family Income', 'Number of Owner-occupied units', 'Number of 1- to 4-Family units']"
   ]
  },
  {
   "cell_type": "code",
   "execution_count": 37,
   "metadata": {
    "collapsed": false
   },
   "outputs": [
    {
     "data": {
      "text/plain": [
       "'\\nlenc = LabelEncoder()\\nfor cat in cats:\\n    print(cat)\\n    data_cleaned[cat] = lenc.fit_transform(data_cleaned[cat])\\n'"
      ]
     },
     "execution_count": 37,
     "metadata": {},
     "output_type": "execute_result"
    }
   ],
   "source": [
    "'''\n",
    "lenc = LabelEncoder()\n",
    "for cat in cats:\n",
    "    print(cat)\n",
    "    data_cleaned[cat] = lenc.fit_transform(data_cleaned[cat])\n",
    "'''"
   ]
  },
  {
   "cell_type": "code",
   "execution_count": 38,
   "metadata": {
    "collapsed": false
   },
   "outputs": [],
   "source": [
    "'''\n",
    "ohe = OneHotEncoder(sparse = False)\n",
    "encoded_data = ohe.fit_transform(data_cleaned[cats])\n",
    "'''\n",
    "\n",
    "data_cleaned = pd.get_dummies(data_cleaned, columns=cats)"
   ]
  },
  {
   "cell_type": "code",
   "execution_count": 39,
   "metadata": {
    "collapsed": false
   },
   "outputs": [
    {
     "data": {
      "text/plain": [
       "Index(['Occupancy', 'Loan Amount (000s)', 'Action Type', 'Population',\n",
       "       'Minority Population %', 'HUD Median Family Income',\n",
       "       'Number of Owner-occupied units', 'Number of 1- to 4-Family units',\n",
       "       'Agency Code_1', 'Agency Code_2', 'Agency Code_3', 'Agency Code_4',\n",
       "       'Agency Code_5', 'Agency Code_7', 'Loan Type_1', 'Loan Type_2',\n",
       "       'Loan Type_3', 'Loan Type_4', 'Property Type_1', 'Property Type_2',\n",
       "       'Property Type_3', 'Loan Purpose_1', 'Loan Purpose_2', 'Loan Purpose_3',\n",
       "       'Preapproval_1', 'Preapproval_2', 'Preapproval_3',\n",
       "       'Applicant Ethnicity_1', 'Applicant Ethnicity_2',\n",
       "       'Applicant Ethnicity_3', 'Applicant Ethnicity_4',\n",
       "       'Co Applicant Ethnicity_1', 'Co Applicant Ethnicity_2',\n",
       "       'Co Applicant Ethnicity_3', 'Co Applicant Ethnicity_4',\n",
       "       'Co Applicant Ethnicity_5', 'Applicant Sex_1', 'Applicant Sex_2',\n",
       "       'Applicant Sex_3', 'Applicant Sex_4', 'Co Applicant Sex_1',\n",
       "       'Co Applicant Sex_2', 'Co Applicant Sex_3', 'Co Applicant Sex_4',\n",
       "       'Co Applicant Sex_5'],\n",
       "      dtype='object')"
      ]
     },
     "execution_count": 39,
     "metadata": {},
     "output_type": "execute_result"
    }
   ],
   "source": [
    "data_cleaned.columns"
   ]
  },
  {
   "cell_type": "code",
   "execution_count": 40,
   "metadata": {
    "collapsed": false,
    "scrolled": true
   },
   "outputs": [
    {
     "data": {
      "text/plain": [
       "(12470767, 45)"
      ]
     },
     "execution_count": 40,
     "metadata": {},
     "output_type": "execute_result"
    }
   ],
   "source": [
    "data_cleaned.shape"
   ]
  },
  {
   "cell_type": "code",
   "execution_count": null,
   "metadata": {
    "collapsed": false
   },
   "outputs": [],
   "source": [
    "#Scale\n",
    "scaler = MinMaxScaler()\n",
    "data_cleaned[scale_feats] = scaler.fit_transform(data_cleaned[scale_feats])"
   ]
  },
  {
   "cell_type": "code",
   "execution_count": 41,
   "metadata": {
    "collapsed": false
   },
   "outputs": [],
   "source": [
    "classes = data_cleaned['Action Type']\n",
    "data_cleaned.drop('Action Type', axis=1, inplace=True)"
   ]
  },
  {
   "cell_type": "code",
   "execution_count": null,
   "metadata": {
    "collapsed": false
   },
   "outputs": [],
   "source": [
    "data_cleaned.to_csv(\"encoded_scaled_features.csv\")"
   ]
  },
  {
   "cell_type": "code",
   "execution_count": 34,
   "metadata": {
    "collapsed": true
   },
   "outputs": [],
   "source": [
    "classes.to_csv('classes.csv')"
   ]
  },
  {
   "cell_type": "code",
   "execution_count": null,
   "metadata": {
    "collapsed": true
   },
   "outputs": [],
   "source": [
    "Xtrain.columns([])"
   ]
  }
 ],
 "metadata": {
  "anaconda-cloud": {},
  "kernelspec": {
   "display_name": "Python [conda root]",
   "language": "python",
   "name": "conda-root-py"
  },
  "language_info": {
   "codemirror_mode": {
    "name": "ipython",
    "version": 3
   },
   "file_extension": ".py",
   "mimetype": "text/x-python",
   "name": "python",
   "nbconvert_exporter": "python",
   "pygments_lexer": "ipython3",
   "version": "3.5.2"
  }
 },
 "nbformat": 4,
 "nbformat_minor": 1
}
